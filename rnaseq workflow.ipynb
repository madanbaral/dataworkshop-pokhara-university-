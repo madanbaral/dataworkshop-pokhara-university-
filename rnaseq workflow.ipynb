{
 "cells": [
  {
   "cell_type": "markdown",
   "id": "e052a4b2-f266-40aa-a60c-798d55be4600",
   "metadata": {},
   "source": [
    "# Step 1: Set Up the Environment and Install Required Program\n"
   ]
  },
  {
   "cell_type": "markdown",
   "id": "b9aa5b9f-a403-484b-bac1-269756fa47f6",
   "metadata": {},
   "source": [
    "# Create a new Conda environment"
   ]
  },
  {
   "cell_type": "code",
   "execution_count": null,
   "id": "aaf28a57-5ade-43ed-8e73-a68549cca033",
   "metadata": {
    "scrolled": true
   },
   "outputs": [],
   "source": [
    "conda create -n rnaseq -c conda-forge jupyter -y"
   ]
  },
  {
   "cell_type": "markdown",
   "id": "e623cbb6-7c0e-43e5-99fd-350b6873abdb",
   "metadata": {},
   "source": [
    "# Activate the environment"
   ]
  },
  {
   "cell_type": "code",
   "execution_count": 1,
   "id": "6c3dde54-d731-4c7d-97ef-827e298887f0",
   "metadata": {},
   "outputs": [
    {
     "name": "stdout",
     "output_type": "stream",
     "text": [
      "Installed kernelspec rnaseq in /Users/madanbaral/Library/Jupyter/kernels/rnaseq\n"
     ]
    }
   ],
   "source": [
    "#python -m ipykernel install --user --name=rnaseq --display-name \"Python (rnaseq)\""
   ]
  },
  {
   "cell_type": "code",
   "execution_count": null,
   "id": "d94b8688-47d8-4895-b502-4c53edf71cf6",
   "metadata": {
    "scrolled": true
   },
   "outputs": [],
   "source": [
    "conda init \n"
   ]
  },
  {
   "cell_type": "code",
   "execution_count": 3,
   "id": "d3642f41-1597-4650-a31e-3532e272699d",
   "metadata": {},
   "outputs": [
    {
     "name": "stdout",
     "output_type": "stream",
     "text": [
      "\n",
      "# conda environments:\n",
      "#\n",
      "base                 * /Users/madanbaral/opt/anaconda3\n",
      "rna                    /Users/madanbaral/opt/anaconda3/envs/rna\n",
      "rna_seq                /Users/madanbaral/opt/anaconda3/envs/rna_seq\n",
      "rnap                   /Users/madanbaral/opt/anaconda3/envs/rnap\n",
      "rnaseq                 /Users/madanbaral/opt/anaconda3/envs/rnaseq\n",
      "                       /opt/anaconda3\n",
      "\n",
      "\n",
      "Note: you may need to restart the kernel to use updated packages.\n"
     ]
    }
   ],
   "source": [
    "conda env list "
   ]
  },
  {
   "cell_type": "code",
   "execution_count": null,
   "id": "add20f3d-d43c-4b27-9246-19192f294654",
   "metadata": {},
   "outputs": [],
   "source": [
    "conda init \n"
   ]
  },
  {
   "cell_type": "code",
   "execution_count": 17,
   "id": "b0168348-6dc4-4b9c-88ee-0dbe99ce4cb6",
   "metadata": {},
   "outputs": [
    {
     "name": "stdout",
     "output_type": "stream",
     "text": [
      "\n",
      "CondaError: Run 'conda init' before 'conda activate'\n",
      "\n",
      "\n",
      "Note: you may need to restart the kernel to use updated packages.\n"
     ]
    }
   ],
   "source": [
    "conda activate rnaseq\n"
   ]
  },
  {
   "cell_type": "code",
   "execution_count": 15,
   "id": "575ba382-8f4d-443f-af1d-f200892b37e3",
   "metadata": {},
   "outputs": [
    {
     "name": "stdout",
     "output_type": "stream",
     "text": [
      "\n",
      "# conda environments:\n",
      "#\n",
      "base                 * /Users/madanbaral/opt/anaconda3\n",
      "rna                    /Users/madanbaral/opt/anaconda3/envs/rna\n",
      "rna_seq                /Users/madanbaral/opt/anaconda3/envs/rna_seq\n",
      "rnap                   /Users/madanbaral/opt/anaconda3/envs/rnap\n",
      "rnaseq                 /Users/madanbaral/opt/anaconda3/envs/rnaseq\n",
      "                       /opt/anaconda3\n",
      "\n",
      "\n",
      "Note: you may need to restart the kernel to use updated packages.\n"
     ]
    }
   ],
   "source": [
    "conda env list \n"
   ]
  },
  {
   "cell_type": "markdown",
   "id": "be9f99c9-61b0-417d-8c39-e8410321f0c5",
   "metadata": {},
   "source": [
    "# Install wget"
   ]
  },
  {
   "cell_type": "code",
   "execution_count": null,
   "id": "20663eae-3652-4ab3-8b3f-c95deb117a89",
   "metadata": {},
   "outputs": [],
   "source": [
    "conda install -c conda-forge wget -y"
   ]
  },
  {
   "cell_type": "markdown",
   "id": "f51e3dbe-3a10-4b23-bd7c-4688c4924af6",
   "metadata": {},
   "source": [
    "# Install RNA-seq analysis tools from bioconda"
   ]
  },
  {
   "cell_type": "code",
   "execution_count": null,
   "id": "f996d6f8-0209-49fc-9b6d-bd64d8bb535e",
   "metadata": {
    "scrolled": true
   },
   "outputs": [],
   "source": [
    "conda install -c bioconda fastqc fastp multiqc star samtools deeptools salmon gatk4"
   ]
  },
  {
   "cell_type": "raw",
   "id": "deca104f-4d80-424e-adb0-e8d2a3f53184",
   "metadata": {},
   "source": [
    "# Install additional tools for SOLiD data (if needed)\n",
    "conda install -c bioconda biosquid # For handling SOLiD-specific formats\n",
    "conda install -c bioconda sra-tools # For downloading data from ENA/SRA\n",
    "\n",
    "# Create a separate environment for differential expression analysis with DESeq2\n",
    "# conda create -n DEseq2 r-essentials r-base\n",
    "# conda install -n DEseq2 -c bioconda bioconductor-deseq2 bioconductor-tximport\n",
    "# conda install -n DEseq2 -c r r-ggplot2"
   ]
  },
  {
   "cell_type": "code",
   "execution_count": null,
   "id": "5994037a-f971-49b7-b7c0-6244bb1f30b0",
   "metadata": {},
   "outputs": [],
   "source": []
  },
  {
   "cell_type": "markdown",
   "id": "c09b5ca1-7d52-40d7-bfb7-ffbe40d08729",
   "metadata": {},
   "source": [
    "# Step 2 : Set Up Project Directory and Jupyter Notebook|\n",
    "\n"
   ]
  },
  {
   "cell_type": "markdown",
   "id": "1091ab66-e876-438b-b96c-bcb7e6a54c53",
   "metadata": {},
   "source": [
    "# Create project directory"
   ]
  },
  {
   "cell_type": "code",
   "execution_count": 1,
   "id": "d1d66d68-3f2c-4a39-889a-054723913204",
   "metadata": {
    "scrolled": true
   },
   "outputs": [
    {
     "data": {
      "text/plain": [
       "'/Users/madanbaral'"
      ]
     },
     "execution_count": 1,
     "metadata": {},
     "output_type": "execute_result"
    }
   ],
   "source": [
    "pwd "
   ]
  },
  {
   "cell_type": "code",
   "execution_count": null,
   "id": "e245b75f-b2f5-482a-ad44-2bbf98aafc1f",
   "metadata": {
    "scrolled": true
   },
   "outputs": [],
   "source": [
    "mkdir -p ~/rnaseq_workshop\n",
    "cd ~/rnaseq_workshop \n",
    "mkdir data raw_data trimmed_data qc_results star_index star_align salmon_index salmon_quant results"
   ]
  },
  {
   "cell_type": "code",
   "execution_count": 3,
   "id": "0e08b2d4-2677-4f43-acd5-e850d1781807",
   "metadata": {},
   "outputs": [
    {
     "data": {
      "text/plain": [
       "'/Users/madanbaral'"
      ]
     },
     "execution_count": 3,
     "metadata": {},
     "output_type": "execute_result"
    }
   ],
   "source": [
    "pwd "
   ]
  },
  {
   "cell_type": "markdown",
   "id": "411ab11d-9518-462d-a59b-cbf1ca3b13bd",
   "metadata": {},
   "source": [
    "\n",
    "# Start Jupyter Notebook\n",
    "jupyter notebook --no-browser"
   ]
  },
  {
   "cell_type": "markdown",
   "id": "ead02446-bf4d-44ea-a23f-45d913bffc9c",
   "metadata": {},
   "source": [
    "#Step 3: Quality Control with FastQC and MultiQC¶"
   ]
  },
  {
   "cell_type": "code",
   "execution_count": 18,
   "id": "2cf0c90d-c9bb-43f2-aae3-4ad61e790bdd",
   "metadata": {},
   "outputs": [
    {
     "name": "stdout",
     "output_type": "stream",
     "text": [
      "Started analysis of ERR571793.fastq.gz\n",
      "Failed to process multiqc\n",
      "java.io.FileNotFoundException: multiqc (Is a directory)\n",
      "\tat java.io.FileInputStream.open0(Native Method)\n",
      "\tat java.io.FileInputStream.open(FileInputStream.java:195)\n",
      "\tat java.io.FileInputStream.<init>(FileInputStream.java:138)\n",
      "\tat uk.ac.babraham.FastQC.Sequence.FastQFile.<init>(FastQFile.java:73)\n",
      "\tat uk.ac.babraham.FastQC.Sequence.SequenceFactory.getSequenceFile(SequenceFactory.java:106)\n",
      "\tat uk.ac.babraham.FastQC.Sequence.SequenceFactory.getSequenceFile(SequenceFactory.java:62)\n",
      "\tat uk.ac.babraham.FastQC.Analysis.OfflineRunner.processFile(OfflineRunner.java:152)\n",
      "\tat uk.ac.babraham.FastQC.Analysis.OfflineRunner.<init>(OfflineRunner.java:121)\n",
      "\tat uk.ac.babraham.FastQC.FastQCApplication.main(FastQCApplication.java:316)\n",
      "Failed to process /Users/madanbaral/rnaseq_workshop/qc_results\n",
      "java.io.FileNotFoundException: /Users/madanbaral/rnaseq_workshop/qc_results (Is a directory)\n",
      "\tat java.io.FileInputStream.open0(Native Method)\n",
      "\tat java.io.FileInputStream.open(FileInputStream.java:195)\n",
      "\tat java.io.FileInputStream.<init>(FileInputStream.java:138)\n",
      "\tat uk.ac.babraham.FastQC.Sequence.FastQFile.<init>(FastQFile.java:73)\n",
      "\tat uk.ac.babraham.FastQC.Sequence.SequenceFactory.getSequenceFile(SequenceFactory.java:106)\n",
      "\tat uk.ac.babraham.FastQC.Sequence.SequenceFactory.getSequenceFile(SequenceFactory.java:62)\n",
      "\tat uk.ac.babraham.FastQC.Analysis.OfflineRunner.processFile(OfflineRunner.java:152)\n",
      "\tat uk.ac.babraham.FastQC.Analysis.OfflineRunner.<init>(OfflineRunner.java:121)\n",
      "\tat uk.ac.babraham.FastQC.FastQCApplication.main(FastQCApplication.java:316)\n",
      "Approx 5% complete for ERR571793.fastq.gz\n",
      "Approx 10% complete for ERR571793.fastq.gz\n",
      "Approx 15% complete for ERR571793.fastq.gz\n",
      "Approx 20% complete for ERR571793.fastq.gz\n",
      "Approx 25% complete for ERR571793.fastq.gz\n",
      "Approx 30% complete for ERR571793.fastq.gz\n",
      "Approx 35% complete for ERR571793.fastq.gz\n",
      "Approx 40% complete for ERR571793.fastq.gz\n",
      "Approx 45% complete for ERR571793.fastq.gz\n",
      "Approx 50% complete for ERR571793.fastq.gz\n",
      "Approx 55% complete for ERR571793.fastq.gz\n",
      "Approx 60% complete for ERR571793.fastq.gz\n",
      "Approx 65% complete for ERR571793.fastq.gz\n",
      "Approx 70% complete for ERR571793.fastq.gz\n",
      "Approx 75% complete for ERR571793.fastq.gz\n",
      "Approx 80% complete for ERR571793.fastq.gz\n",
      "Approx 85% complete for ERR571793.fastq.gz\n",
      "Approx 90% complete for ERR571793.fastq.gz\n",
      "Approx 95% complete for ERR571793.fastq.gz\n",
      "Analysis complete for ERR571793.fastq.gz\n",
      "Warning: the font \"Times\" is not available, so \"Lucida Bright\" has been substituted, but may have unexpected appearance or behavor. Re-enable the \"Times\" font to remove this warning.\n",
      "Started analysis of ERR571794.fastq.gz\n",
      "Approx 5% complete for ERR571794.fastq.gz\n",
      "Approx 10% complete for ERR571794.fastq.gz\n",
      "Approx 15% complete for ERR571794.fastq.gz\n",
      "Approx 20% complete for ERR571794.fastq.gz\n",
      "Approx 25% complete for ERR571794.fastq.gz\n",
      "Approx 30% complete for ERR571794.fastq.gz\n",
      "Approx 35% complete for ERR571794.fastq.gz\n",
      "Approx 40% complete for ERR571794.fastq.gz\n",
      "Approx 45% complete for ERR571794.fastq.gz\n",
      "Approx 50% complete for ERR571794.fastq.gz\n",
      "Approx 55% complete for ERR571794.fastq.gz\n",
      "Approx 60% complete for ERR571794.fastq.gz\n",
      "Approx 65% complete for ERR571794.fastq.gz\n",
      "Approx 70% complete for ERR571794.fastq.gz\n",
      "Approx 75% complete for ERR571794.fastq.gz\n",
      "Approx 80% complete for ERR571794.fastq.gz\n",
      "Approx 85% complete for ERR571794.fastq.gz\n",
      "Approx 90% complete for ERR571794.fastq.gz\n",
      "Approx 95% complete for ERR571794.fastq.gz\n",
      "Analysis complete for ERR571794.fastq.gz\n"
     ]
    }
   ],
   "source": [
    "!fastqc ~/rnaseq_workshop/raw_data/*.fastq.gz -o ~/rnaseq_workshop/qc_results multiqc ~/rnaseq_workshop/qc_results -o ~/rnaseq_workshop/qc_results/multiqc"
   ]
  },
  {
   "cell_type": "markdown",
   "id": "addf5de0-b691-41f4-b550-87a2d77c2e95",
   "metadata": {},
   "source": [
    "# Step 1: Set Up the Conda Environment (rnaseq)Create a Conda environment named rnaseq and install all necessary tools for RNA-seq analysis, including those for handling SOLiD data, alignment, quantification, and differential expression.bash\n",
    "\n",
    "# Create and activate the rnaseq environment\n",
    "conda create -n rnaseq python=3.9 r-base r-essentials jupyter\n",
    "conda activate rnaseq\n",
    "\n",
    "# Install tools for data download, preprocessing, and analysis\n",
    "conda install -c conda-forge wget\n",
    "conda install -c bioconda sra-tools fastqc fastp multiqc star samtools deeptools salmon biosquid\n",
    "conda install -c bioconda bioconductor-deseq2 bioconductor-tximport\n",
    "conda install -c r r-ggplot2 r-dplyr\n",
    "conda install -c conda-forge r-irkernel\n",
    "\n",
    "# Register IRkernel for Jupyter\n",
    "R -e \"IRkernel::installspec()\"\n",
    "\n",
    "Explanation:Environment: rnaseq includes Python 3.9 for general scripting, R for DESeq2, and Jupyter for the notebook.\n",
    "Tools:wget, sra-tools: For downloading data from ENA.\n",
    "fastqc, multiqc: Quality control.\n",
    "fastp: Read trimming (adapter and quality).\n",
    "star: Read alignment to the genome.\n",
    "samtools: BAM file manipulation.\n",
    "deeptools: Visualization (e.g., coverage plots).\n",
    "salmon: Transcript quantification.\n",
    "biosquid: For potential SOLiD colorspace data handling.\n",
    "DESeq2, tximport, ggplot2, dplyr: Differential expression and visualization in R.\n",
    "IRkernel: Enables R in Jupyter Notebooks.\n",
    "\n",
    "Teaching Tip: Explain that Conda isolates dependencies to avoid conflicts, and show the command conda env list to verify the environment.\n",
    "\n",
    "Memory Note: STAR requires ~30GB RAM for human genome indexing. Ensure the workshop computer meets this requirement.\n",
    "\n",
    "\n",
    "Step 2: Set Up Project Directory and Jupyter NotebookCreate a project directory and start Jupyter Notebook.bash\n",
    "\n",
    "# Create project directory\n",
    "mkdir -p ~/rnaseq_workshop\n",
    "cd ~/rnaseq_workshop\n",
    "mkdir data raw_data trimmed_data qc_results star_index star_align salmon_index salmon_quant results\n",
    "\n",
    "# Start Jupyter Notebook\n",
    "jupyter notebook --no-browser\n",
    "\n",
    "Copy the URL (e.g., http://localhost:8888/?token=...) into a browser.\n",
    "Create a new notebook with the R kernel (select “R” from the “New” dropdown).\n",
    "Save the notebook as rnaseq_analysis.ipynb in ~/rnaseq_workshop.\n",
    "\n",
    "Teaching Tip: Show students how to navigate Jupyter, create cells (Code, Markdown), and switch kernels. Explain that the notebook will mix bash (for preprocessing) and R (for analysis) using %%bash magic.Step 3: Download PRJEB6899 Data from ENAThe PRJEB6899 dataset is available at https://www.ebi.ac.uk/ena/browser/view/PRJEB6899. You need the run accessions (e.g., ERRXXXXXX) for MCF7 and MCFS samples. Since specific run accessions weren’t provided, I’ll use placeholder examples based on typical ENA structure. For the workshop, check the ENA project page or ArrayExpress (E-MTAB-3608) for exact run IDs (e.g., ERR768073–ERR768078, assuming 3 MCF7 and 3 MCFS samples).Download Metadata:bash\n",
    "\n",
    "cd ~/rnaseq_workshop/data\n",
    "wget https://www.ebi.ac.uk/ena/portal/api/filereport?accession=PRJEB6899&result=read_run&fields=run_accession,sample_accession,library_layout,fastq_ftp&format=tsv -O PRJEB6899_metadata.tsv\n",
    "\n",
    "Download FASTQ Files:Check the PRJEB6899_metadata.tsv file for fastq_ftp URLs. Example command for paired-end FASTQ files:bash\n",
    "\n",
    "cd ~/rnaseq_workshop/raw_data\n",
    "# Example: Replace with actual URLs from metadata\n",
    "wget ftp://ftp.sra.ebi.ac.uk/vol1/fastq/ERR768/ERR768073/ERR768073_1.fastq.gz\n",
    "wget ftp://ftp.sra.ebi.ac.uk/vol1/fastq/ERR768/ERR768073/ERR768073_2.fastq.gz\n",
    "# Repeat for other runs (e.g., ERR768074–ERR768078)\n",
    "\n",
    "Alternative: Use sra-tools (if FASTQ URLs are unavailable):bash\n",
    "\n",
    "cd ~/rnaseq_workshop/raw_data\n",
    "fasterq-dump ERR768073 -O . # Repeat for each run\n",
    "gzip *.fastq # Compress to save space\n",
    "\n",
    "read the metadata file (less PRJEB6899_metadata.tsv) to identify sample conditions (MCF7 vs. MCFS) and library layout (single-end or paired-end). the importance of metadata for biological context.SOLiD Note: If the data is in colorspace (.csfasta/.qual), ENA likely provides FASTQ-converted files. If not, use biosquid for conversion (requires additional setup; contact me if needed).Step 4: Download Reference FilesDownload the human reference genome and transcriptome for alignment and quantification.bash\n",
    "\n",
    "cd ~/rnaseq_workshop/data\n",
    "wget ftp://ftp.ensembl.org/pub/release-104/fasta/homo_sapiens/dna/Homo_sapiens.GRCh38.dna.primary_assembly.fa.gz\n",
    "wget ftp://ftp.ensembl.org/pub/release-104/gtf/homo_sapiens/Homo_sapiens.GRCh38.104.gtf.gz\n",
    "wget ftp://ftp.ensembl.org/pub/release-104/fasta/homo_sapiens/cdna/Homo_sapiens.GRCh38.cdna.all.fa.gz\n",
    "gunzip *.gz\n",
    "\n",
    "role of the reference genome (for alignment) and GTF/transcriptome (for annotation and quantification). Show the file structure with ls -lh.\n",
    "\n"
   ]
  },
  {
   "cell_type": "markdown",
   "id": "ae6027b6-243e-46a8-9e2a-611584b76dce",
   "metadata": {},
   "source": [
    "---\n",
    "title: \"RNA-seq Analysis Workshop: PRJEB6899 (MCF7 vs. MCFS Breast Cancer)\"\n",
    "date: \"July 5, 2025\"\n",
    "output: html_notebook\n",
    "---\n",
    "\n",
    "# RNA-seq Analysis Workshop: PRJEB6899\n",
    "This notebook analyzes RNA-seq data from PRJEB6899 to compare MCF7 breast cancer cells and MCFS mammospheres. We cover quality control, preprocessing, alignment, quantification, and differential expression.\n",
    "\n",
    "## Step 1: Quality Control with FastQC and MultiQC\n",
    "Check raw read quality.\n",
    "\n",
    "%%bash\n",
    "mkdir -p ~/rnaseq_workshop/qc_results\n",
    "fastqc ~/rnaseq_workshop/raw_data/*.fastq.gz -o ~/rnaseq_workshop/qc_results\n",
    "multiqc ~/rnaseq_workshop/qc_results -o ~/rnaseq_workshop/qc_results/multiqc\n",
    "\n",
    "# View MultiQC report (open multiqc_report.html in a browser)\n",
    "cat ~/rnaseq_workshop/qc_results/multiqc/multiqc_report.html\n",
    "\n",
    "## Step 2: Trim Reads with fastp\n",
    "Trim adapters and low-quality bases.\n",
    "\n",
    "%%bash\n",
    "mkdir -p ~/rnaseq_workshop/trimmed_data\n",
    "for R1 in ~/rnaseq_workshop/raw_data/*_1.fastq.gz; do\n",
    "    R2=${R1/_1.fastq.gz/_2.fastq.gz}\n",
    "    sample=$(basename $R1 _1.fastq.gz)\n",
    "    fastp -i $R1 -I $R2 \\\n",
    "          -o ~/rnaseq_workshop/trimmed_data/${sample}_1.trimmed.fastq.gz \\\n",
    "          -O ~/rnaseq_workshop/trimmed_data/${sample}_2.trimmed.fastq.gz \\\n",
    "          -h ~/rnaseq_workshop/trimmed_data/${sample}_fastp.html \\\n",
    "          -j ~/rnaseq_workshop/trimmed_data/${sample}_fastp.json\n",
    "done\n",
    "multiqc ~/rnaseq_workshop/trimmed_data -o ~/rnaseq_workshop/trimmed_data/multiqc\n",
    "\n",
    "## Step 3: Index Genome with STAR\n",
    "Create a genome index for alignment.\n",
    "\n",
    "%%bash\n",
    "mkdir -p ~/rnaseq_workshop/star_index\n",
    "STAR --runThreadN 8 --runMode genomeGenerate \\\n",
    "     --genomeDir ~/rnaseq_workshop/star_index \\\n",
    "     --genomeFastaFiles ~/rnaseq_workshop/data/Homo_sapiens.GRCh38.dna.primary_assembly.fa \\\n",
    "     --sjdbGTFfile ~/rnaseq_workshop/data/Homo_sapiens.GRCh38.104.gtf \\\n",
    "     --sjdbOverhang 99\n",
    "\n",
    "## Step 4: Align Reads with STAR\n",
    "Align trimmed reads to the genome.\n",
    "\n",
    "%%bash\n",
    "mkdir -p ~/rnaseq_workshop/star_align\n",
    "for R1 in ~/rnaseq_workshop/trimmed_data/*_1.trimmed.fastq.gz; do\n",
    "    R2=${R1/_1.trimmed.fastq.gz/_2.trimmed.fastq.gz}\n",
    "    sample=$(basename $R1 _1.trimmed.fastq.gz)\n",
    "    STAR --runThreadN 8 \\\n",
    "         --genomeDir ~/rnaseq_workshop/star_index \\\n",
    "         --readFilesIn $R1 $R2 \\\n",
    "         --readFilesCommand zcat \\\n",
    "         --outFileNamePrefix ~/rnaseq_workshop/star_align/${sample}_ \\\n",
    "         --outSAMtype BAM SortedByCoordinate \\\n",
    "         --outSAMunmapped Within \\\n",
    "         --outSAMattributes Standard\n",
    "done\n",
    "\n",
    "## Step 5: Index BAM Files with samtools\n",
    "Index BAM files for downstream analysis.\n",
    "\n",
    "%%bash\n",
    "for bam in ~/rnaseq_workshop/star_align/*.bam; do\n",
    "    samtools index $bam\n",
    "done\n",
    "\n",
    "## Step 6: Index Transcriptome with Salmon\n",
    "Create a transcriptome index for quantification.\n",
    "\n",
    "%%bash\n",
    "mkdir -p ~/rnaseq_workshop/salmon_index\n",
    "salmon index -t ~/rnaseq_workshop/data/Homo_sapiens.GRCh38.cdna.all.fa \\\n",
    "             -i ~/rnaseq_workshop/salmon_index\n",
    "\n",
    "## Step 7: Quantify Transcripts with Salmon\n",
    "Quantify transcript expression.\n",
    "\n",
    "%%bash\n",
    "mkdir -p ~/rnaseq_workshop/salmon_quant\n",
    "for R1 in ~/rnaseq_workshop/trimmed_data/*_1.trimmed.fastq.gz; do\n",
    "    R2=${R1/_1.trimmed.fastq.gz/_2.trimmed.fastq.gz}\n",
    "    sample=$(basename $R1 _1.trimmed.fastq.gz)\n",
    "    salmon quant -i ~/rnaseq_workshop/salmon_index -l A \\\n",
    "                 -1 $R1 -2 $R2 \\\n",
    "                 --validateMappings \\\n",
    "                 -o ~/rnaseq_workshop/salmon_quant/${sample}\n",
    "done\n",
    "\n",
    "## Step 8: Differential Expression with DESeq2\n",
    "Load and analyze quantification data in R.\n",
    "\n",
    "```{R}\n",
    "# Load libraries\n",
    "library(tximport)\n",
    "library(DESeq2)\n",
    "library(ggplot2)\n",
    "library(dplyr)\n",
    "\n",
    "# Set working directory\n",
    "setwd(\"~/rnaseq_workshop\")\n",
    "\n",
    "# Load metadata (adjust based on PRJEB6899_metadata.tsv)\n",
    "# Example metadata for 6 samples (3 MCF7, 3 MCFS)\n",
    "metadata <- data.frame(\n",
    "  sample = c(\"ERR768073\", \"ERR768074\", \"ERR768075\", \"ERR768076\", \"ERR768077\", \"ERR768078\"),\n",
    "  condition = c(\"MCF7\", \"MCF7\", \"MCF7\", \"MCFS\", \"MCFS\", \"MCFS\"),\n",
    "  row.names = c(\"ERR768073\", \"ERR768074\", \"ERR768075\", \"ERR768076\", \"ERR768077\", \"ERR768078\")\n",
    ")\n",
    "write.csv(metadata, \"data/metadata.csv\")\n",
    "\n",
    "# Import Salmon quantification\n",
    "files <- file.path(\"salmon_quant\", metadata$sample, \"quant.sf\")\n",
    "names(files) <- metadata$sample\n",
    "txi <- tximport(files, type = \"salmon\", tx2gene = NULL)\n",
    "\n",
    "# Create DESeq2 dataset\n",
    "dds <- DESeqDataSetFromTximport(txi, colData = metadata, design = ~ condition)\n",
    "\n",
    "# Filter low-count genes\n",
    "keep <- rowSums(counts(dds)) >= 10\n",
    "dds <- dds[keep,]\n",
    "\n",
    "# Run DESeq2\n",
    "dds <- DESeq(dds)\n",
    "res <- results(dds, contrast = c(\"condition\", \"MCFS\", \"MCF7\"))\n",
    "\n",
    "# Save results\n",
    "res_df <- as.data.frame(res)\n",
    "write.csv(res_df, \"results/deseq2_results.csv\")\n",
    "\n",
    "# Volcano Plot\n",
    "res_df$significant <- ifelse(res_df$padj < 0.05 & abs(res_df$log2FoldChange) > 1, \"Significant\", \"Not Significant\")\n",
    "ggplot(res_df, aes(x = log2FoldChange, y = -log10(padj), color = significant)) +\n",
    "  geom_point(size = 1) +\n",
    "  scale_color_manual(values = c(\"grey\", \"red\")) +\n",
    "  theme_minimal() +\n",
    "  ggtitle(\"Volcano Plot: MCFS vs MCF7\") +\n",
    "  xlab(\"Log2 Fold Change\") + ylab(\"-Log10 Adjusted P-value\")\n",
    "ggsave(\"results/volcano_plot.png\")\n",
    "\n",
    "# Heatmap of top 10 genes\n",
    "library(pheatmap)\n",
    "top_genes <- res_df[order(res_df$padj), ][1:10, ]\n",
    "top_counts <- assay(rlog(dds))[rownames(top_genes), ]\n",
    "pheatmap(top_counts, scale = \"row\", main = \"Top 10 DE Genes Heatmap\",\n",
    "         filename = \"results/heatmap.png\")\n",
    "\n",
    "# PCA Plot\n",
    "rld <- rlog(dds, blind = TRUE)\n",
    "plotPCA(rld, intgroup = \"condition\") +\n",
    "  ggtitle(\"PCA Plot: MCF7 vs MCFS Samples\")\n",
    "ggsave(\"results/pca_plot.png\")\n",
    "\n",
    "# Print top genes\n",
    "print(\"Top 10 Differentially Expressed Genes:\")\n",
    "print(top_genes[, c(\"log2FoldChange\", \"padj\")])"
   ]
  },
  {
   "cell_type": "code",
   "execution_count": null,
   "id": "cb35ed36-7cd1-4ac3-880f-fae42abb2c97",
   "metadata": {},
   "outputs": [],
   "source": []
  }
 ],
 "metadata": {
  "kernelspec": {
   "display_name": "Python [conda env:base] *",
   "language": "python",
   "name": "conda-base-py"
  },
  "language_info": {
   "codemirror_mode": {
    "name": "ipython",
    "version": 3
   },
   "file_extension": ".py",
   "mimetype": "text/x-python",
   "name": "python",
   "nbconvert_exporter": "python",
   "pygments_lexer": "ipython3",
   "version": "3.13.5"
  }
 },
 "nbformat": 4,
 "nbformat_minor": 5
}
